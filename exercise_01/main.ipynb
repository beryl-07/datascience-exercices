{
 "cells": [
  {
   "cell_type": "markdown",
   "id": "8a77807f92f26ee",
   "metadata": {},
   "source": [
    "### Charger un fichier audio et afficher sa durée"
   ]
  },
  {
   "cell_type": "code",
   "id": "fbc121e30a2defb3",
   "metadata": {
    "ExecuteTime": {
     "end_time": "2025-04-01T18:09:39.397656Z",
     "start_time": "2025-04-01T18:09:25.222721Z"
    }
   },
   "source": [
    "import librosa\n",
    "filename = './data/Anxiety-Doechii.mp3'\n",
    "\n",
    "y, sr = librosa.load(filename)\n",
    "duration = librosa.get_duration(y=y, sr=sr)\n",
    "print(f\"Durée: {duration:.2f} secondes\")"
   ],
   "outputs": [
    {
     "name": "stdout",
     "output_type": "stream",
     "text": [
      "Durée: 249.30 secondes\n"
     ]
    }
   ],
   "execution_count": 1
  },
  {
   "cell_type": "markdown",
   "id": "2c0561b344c5c234",
   "metadata": {},
   "source": [
    "### Charger un fichier video et afficher ses fps avec opencv\n"
   ]
  },
  {
   "cell_type": "code",
   "id": "ba1952b0426551ec",
   "metadata": {
    "ExecuteTime": {
     "end_time": "2025-04-01T18:09:40.029260Z",
     "start_time": "2025-04-01T18:09:39.622928Z"
    }
   },
   "source": [
    "import cv2 as cv\n",
    "\n",
    "filename = './data/Anxiety-Doechii.mp4'\n",
    "cap = cv.VideoCapture(filename)\n",
    "fps = cap.get(cv.CAP_PROP_FPS)\n",
    "print(f\"FPS: {fps:.2f}\")\n"
   ],
   "outputs": [
    {
     "name": "stdout",
     "output_type": "stream",
     "text": [
      "FPS: 23.98\n"
     ]
    }
   ],
   "execution_count": 2
  },
  {
   "cell_type": "markdown",
   "id": "61174deb1e839903",
   "metadata": {},
   "source": [
    "### Lire un fichier Parquet et afficher son contenu"
   ]
  },
  {
   "cell_type": "code",
   "id": "82a74a569797413d",
   "metadata": {
    "ExecuteTime": {
     "end_time": "2025-04-01T18:09:40.666651Z",
     "start_time": "2025-04-01T18:09:40.057740Z"
    }
   },
   "source": [
    "import pandas as pd\n",
    "\n",
    "filename = './data/gdp-countries.parquet'\n",
    "\n",
    "df = pd.read_parquet(filename)\n",
    "print(df.head())"
   ],
   "outputs": [
    {
     "name": "stdout",
     "output_type": "stream",
     "text": [
      "country_name  Aruba  Africa Eastern and Southern  Afghanistan  \\\n",
      "1960            NaN                 2.008272e+10  537777811.1   \n",
      "1961            NaN                 2.050945e+10  548888895.6   \n",
      "1962            NaN                 2.235043e+10  546666677.8   \n",
      "1963            NaN                 2.675866e+10  751111191.1   \n",
      "1964            NaN                 2.446499e+10  800000044.4   \n",
      "\n",
      "country_name  Africa Western and Central  Angola  Albania  Andorra  \\\n",
      "1960                        1.040428e+10     NaN      NaN      NaN   \n",
      "1961                        1.112805e+10     NaN      NaN      NaN   \n",
      "1962                        1.194335e+10     NaN      NaN      NaN   \n",
      "1963                        1.267652e+10     NaN      NaN      NaN   \n",
      "1964                        1.383858e+10     NaN      NaN      NaN   \n",
      "\n",
      "country_name  Arab World  United Arab Emirates     Argentina  ...  \\\n",
      "1960                 NaN                   NaN           NaN  ...   \n",
      "1961                 NaN                   NaN           NaN  ...   \n",
      "1962                 NaN                   NaN  2.445060e+10  ...   \n",
      "1963                 NaN                   NaN  1.827212e+10  ...   \n",
      "1964                 NaN                   NaN  2.560525e+10  ...   \n",
      "\n",
      "country_name  Virgin Islands (U.S.)  Vietnam  Vanuatu         World  Samoa  \\\n",
      "1960                            NaN      NaN      NaN  1.390300e+12    NaN   \n",
      "1961                            NaN      NaN      NaN  1.446420e+12    NaN   \n",
      "1962                            NaN      NaN      NaN  1.548220e+12    NaN   \n",
      "1963                            NaN      NaN      NaN  1.669090e+12    NaN   \n",
      "1964                            NaN      NaN      NaN  1.827510e+12    NaN   \n",
      "\n",
      "country_name  Kosovo  Yemen, Rep.  South Africa       Zambia      Zimbabwe  \n",
      "1960             NaN          NaN  7.575397e+09  713000000.0  1.052990e+09  \n",
      "1961             NaN          NaN  7.972997e+09  696285714.3  1.096647e+09  \n",
      "1962             NaN          NaN  8.497997e+09  693142857.1  1.117602e+09  \n",
      "1963             NaN          NaN  9.423396e+09  718714285.7  1.159512e+09  \n",
      "1964             NaN          NaN  1.037400e+10  839428571.4  1.217138e+09  \n",
      "\n",
      "[5 rows x 266 columns]\n"
     ]
    }
   ],
   "execution_count": 3
  },
  {
   "metadata": {},
   "cell_type": "markdown",
   "source": "### Lire le fichier Avro et le convertir en DataFrame",
   "id": "5e4ac2d81863eb3f"
  },
  {
   "cell_type": "code",
   "id": "3e41ce04b3239a65",
   "metadata": {
    "ExecuteTime": {
     "end_time": "2025-04-01T18:09:42.453274Z",
     "start_time": "2025-04-01T18:09:40.746561Z"
    }
   },
   "source": [
    "import pandas as pd\n",
    "import fastavro\n",
    "\n",
    "def avro_df(filepath, encoding):\n",
    "    # Open file stream\n",
    "    with open(filepath, encoding) as fp:\n",
    "        # Configure Avro reader\n",
    "        reader = fastavro.reader(fp)\n",
    "        # Load records in memory\n",
    "        records = [r for r in reader]\n",
    "        # Populate pandas.DataFrame with records and return it\n",
    "        return pd.DataFrame.from_records(records)\n",
    "\n",
    "filename = './data/BlueSkyProfiles.avro'\n",
    "df = avro_df(filename, 'rb')\n",
    "\n",
    "print(df.head())"
   ],
   "outputs": [
    {
     "name": "stdout",
     "output_type": "stream",
     "text": [
      "                                              avatar  \\\n",
      "0  https://cdn.bsky.app/img/avatar/plain/did:plc:...   \n",
      "1  https://cdn.bsky.app/img/avatar/plain/did:plc:...   \n",
      "2  https://cdn.bsky.app/img/avatar/plain/did:plc:...   \n",
      "3  https://cdn.bsky.app/img/avatar/plain/did:plc:...   \n",
      "4  https://cdn.bsky.app/img/avatar/plain/did:plc:...   \n",
      "\n",
      "                                              banner  \\\n",
      "0  https://cdn.bsky.app/img/banner/plain/did:plc:...   \n",
      "1                                               None   \n",
      "2  https://cdn.bsky.app/img/banner/plain/did:plc:...   \n",
      "3  https://cdn.bsky.app/img/banner/plain/did:plc:...   \n",
      "4                                               None   \n",
      "\n",
      "                 created_at  followers_count  follows_count  posts_count  \\\n",
      "0  2024-10-17T05:01:17.512Z               32             54           10   \n",
      "1  2024-11-15T22:00:37.924Z               21             18            0   \n",
      "2  2024-11-08T13:53:43.081Z              856           1330          282   \n",
      "3  2024-09-02T15:29:08.803Z               71             57            4   \n",
      "4  2024-11-27T11:45:08.246Z               64             60           56   \n",
      "\n",
      "                     handle display_name  \\\n",
      "0        bilone.bsky.social           글밥   \n",
      "1      bpintado.bsky.social                \n",
      "2      genx.swifties.social    Essie ⸆⸉🩷   \n",
      "3    guihcoutto.bsky.social       Guih 🍂   \n",
      "4  hollysgirl63.bsky.social   Hollysgirl   \n",
      "\n",
      "                                         description  \n",
      "0                        여러가지 좋아하는 그림쟁이\\n여기는 원피스 위주😙  \n",
      "1                                               None  \n",
      "2  GenX Swiftie✨ Cat Mom ✨Boy Mom ✨Tayvis stan 💙M...  \n",
      "3  Me sigam vey \\n@guih.wc7 no insta 💕\\nAlguém av...  \n",
      "4  I’m 61, Canadian, love weight training, yoga, ...  \n"
     ]
    }
   ],
   "execution_count": 4
  },
  {
   "cell_type": "markdown",
   "id": "5940d7a407c39ce1",
   "metadata": {},
   "source": [
    "### Extraire un fichier ZIP et afficher les fichiers extraits."
   ]
  },
  {
   "cell_type": "code",
   "id": "af2e57d926ddf76f",
   "metadata": {
    "ExecuteTime": {
     "end_time": "2025-04-01T18:09:53.860656Z",
     "start_time": "2025-04-01T18:09:53.837020Z"
    }
   },
   "source": [
    "import zipfile\n",
    "\n",
    "with zipfile.ZipFile('./data/archive.zip', 'r') as zip_ref:\n",
    "    zip_ref.extractall('./data/')\n",
    "    print(zip_ref.namelist())\n"
   ],
   "outputs": [
    {
     "name": "stdout",
     "output_type": "stream",
     "text": [
      "['country-names-and-codes.csv', 'country-names-and-codes.parquet', 'gdp-countries.csv', 'gdp-countries.parquet']\n"
     ]
    }
   ],
   "execution_count": 11
  },
  {
   "cell_type": "markdown",
   "id": "6c6561bb35acbaf7",
   "metadata": {},
   "source": [
    "### Lire un fichier YAML et afficher ses clés principales"
   ]
  },
  {
   "cell_type": "code",
   "id": "d8dfafb82a64bd54",
   "metadata": {
    "ExecuteTime": {
     "end_time": "2025-04-01T18:09:43.875602Z",
     "start_time": "2025-04-01T18:09:42.542971Z"
    }
   },
   "source": [
    "import yaml\n",
    "\n",
    "with open('./data/countries.yml', 'r') as stream:\n",
    "    data = yaml.safe_load(stream)\n",
    "    print(data.keys())"
   ],
   "outputs": [
    {
     "name": "stdout",
     "output_type": "stream",
     "text": [
      "dict_keys(['country'])\n"
     ]
    }
   ],
   "execution_count": 6
  },
  {
   "cell_type": "markdown",
   "id": "e05ace118441fe99",
   "metadata": {},
   "source": [
    "### Lire un fichier PDF et afficher son texte brut"
   ]
  },
  {
   "cell_type": "code",
   "id": "cd384837b3a3cb0c",
   "metadata": {
    "ExecuteTime": {
     "end_time": "2025-04-01T18:09:44.674350Z",
     "start_time": "2025-04-01T18:09:43.911101Z"
    }
   },
   "source": [
    "from pypdf import PdfReader\n",
    "\n",
    "filename='./data/crafting_interpreters_robert_nystrom.pdf'\n",
    "\n",
    "reader = PdfReader(filename)\n",
    "number_of_pages = len(reader.pages)\n",
    "page = reader.pages[1]\n",
    "text = page.extract_text()\n",
    "print(text)"
   ],
   "outputs": [
    {
     "name": "stdout",
     "output_type": "stream",
     "text": [
      "This may be the beginning of a grand adventure. Programming languages\n",
      "encompass a huge space to explore and play in. Plenty of room for your own\n",
      "creations to share with others or just enjoy yourself. Brilliant computer\n",
      "scientists and software engineers have spent entire careers traversing this land\n",
      "without ever reaching the end. If this book is your first entry into the country,\n",
      "welcome.\n",
      "The pages of this book give you a guided tour through some of the world of\n",
      "languages. But before we strap on our hiking boots and venture out, we should\n",
      "familiarize ourselves with the territory. The chapters in this part introduce you\n",
      "to the basic concepts used by programming languages and how they are\n",
      "organized.\n",
      "We will also get acquainted with Lox, the language we’ll spend the rest of the\n",
      "book implementing (twice). Let’s go!\n",
      "Hand-cra!ed by Robert Nystrom — © 2015 – 2020\n",
      "NEXT CHAPTER: “INTRODUCTION” →\n",
      "IWELCOME\n"
     ]
    }
   ],
   "execution_count": 7
  },
  {
   "metadata": {},
   "cell_type": "markdown",
   "source": "### Lire un fichier Txt et afficher son contenu",
   "id": "f80b5ab28acae315"
  },
  {
   "cell_type": "code",
   "id": "95b56419-5ca4-42bd-bf1e-c8303f7b6ed0",
   "metadata": {
    "ExecuteTime": {
     "end_time": "2025-04-01T18:09:44.730653Z",
     "start_time": "2025-04-01T18:09:44.723781Z"
    }
   },
   "source": [
    "filename = './data/list_of_african_language.txt'\n",
    "\n",
    "with open(filename, 'r') as file:\n",
    "    print(file.read())"
   ],
   "outputs": [
    {
     "name": "stdout",
     "output_type": "stream",
     "text": [
      "die\n",
      "het\n",
      "en\n",
      "sy\n",
      "nie\n",
      "'n\n",
      "Å‰\n",
      "was\n",
      "hy\n",
      "te\n",
      "is\n",
      "ek\n",
      "om\n",
      "hulle\n",
      "in\n",
      "my\n",
      "vir\n",
      "toe\n",
      "haar\n",
      "van\n",
      "dit\n",
      "op\n",
      "se\n",
      "wat\n",
      "met\n",
      "by\n",
      "gaan\n",
      "baie\n",
      "ons\n",
      "jy\n",
      "na\n",
      "maar\n",
      "hom\n",
      "so\n",
      "kan\n",
      "aan\n",
      "dat\n",
      "daar\n",
      "sal\n",
      "jou\n",
      "gesÃª\n",
      "kom\n",
      "een\n",
      "ma\n",
      "as\n",
      "al\n",
      "saam\n",
      "uit\n",
      "dag\n",
      "sien\n",
      "af\n"
     ]
    }
   ],
   "execution_count": 8
  },
  {
   "metadata": {},
   "cell_type": "markdown",
   "source": "### Lire un fichier Markdown et afficher son contenu",
   "id": "8489c1d77fceb16a"
  },
  {
   "metadata": {
    "ExecuteTime": {
     "end_time": "2025-04-01T18:09:44.801519Z",
     "start_time": "2025-04-01T18:09:44.794054Z"
    }
   },
   "cell_type": "code",
   "source": [
    "filename = 'README.md'\n",
    "with open(filename, 'r') as file:\n",
    "    print(file.read())"
   ],
   "id": "b6705ef06039ef5",
   "outputs": [
    {
     "name": "stdout",
     "output_type": "stream",
     "text": [
      "## Exercice 01 de Data Science: Manipulation des fichiers en Python\n",
      "\n",
      "### A- Effectuez chacune des tâches suivantes en utilisant python\n",
      "1. Chargez un fichier audio et affichez sa durée avec librosa.\n",
      "Chargez une vidéo et affichez ses FPS avec OpenCV.\n",
      "3. Lisez un fichier Parquet avec pandas et affichez son contenu.\n",
      "4. Lisez un fichier Avro et convertissez-le en DataFrame.\n",
      "5. Lisez un fichier YAML et affichez ses clés principales.\n",
      "6. Extrayez un fichier ZIP et affichez les fichiers extraits.\n",
      "7. Lisez un fichier PDF et affichez son texte brut.\n",
      "8. Lisez un fichier Markdown et affichez son contenu.\n",
      "9. Lisez un fichier TXT et affichez son contenu.\n",
      "\n",
      "### B- Pour chaque type de fichier ci-dessus, Déterminez si la conversion de chaque type de fichier en DataFrame est pertinente pour une analyse de données, en justifiant votre réponse et en proposant une alternative si nécessaire.\n"
     ]
    }
   ],
   "execution_count": 9
  },
  {
   "metadata": {},
   "cell_type": "markdown",
   "source": [
    "B- Pertinence de la conversion des types de fichiers employés ci-dessus en DataFrame.\n",
    "\n",
    "1. **Fichier Audio**:\n",
    "    - Il n'est pas vraiment pertinent de convertir un fichier audio en DataFrame. Cependant, au chargement d'un fichier audio avec `librosa`, la méthode `load` retourne entre autres un tableau numpy qui est la représentation du signal audio, qu'il est possible de convertir en DataFrame.\n",
    "\n",
    "2. **Fichier Vidéo**:\n",
    "    - Il n'est pas vraiment pertinent de convertir un fichier vidéo en DataFrame. Cependant, la lecture d'un fichier vidéo avec `OpenCV` pourrait permettre d'analyser les images du fichier vidéo et de les stocker dans un DataFrame.\n",
    "\n",
    "3. **Fichier Parquet**:\n",
    "    - Un fichier Parquet est un format de stockage de données colonnaires, format de fichier assez proche du DataFrame. Il est donc pertinent de convertir un fichier Parquet en DataFrame.\n",
    "\n",
    "4. **Fichier Avro**:\n",
    "    - Un fichier Avro est un format de sérialisation de données, il est donc pertinent de convertir un fichier Avro en DataFrame.\n",
    "\n",
    "5. **Fichier ZIP**:\n",
    "    - Les fichiers ZIP étant des fichiers compressés contenant plusieurs fichiers, il n'est pas très pertinent de les convertir en DataFrame. Alternativement, on pourrait extraire les fichiers contenus dans le fichier ZIP et les analyser individuellement.\n",
    "\n",
    "6. **Fichier YAML**:\n",
    "    - Un fichier YAML est un format de sérialisation de données, mais il est généralement utilisé pour des configurations et des données hiérarchiques, pas tabulaires. Il peut être pertinent de convertir certaines parties d'un fichier YAML en DataFrame si elles sont structurées de manière tabulaire.\n",
    "\n",
    "7. **Fichier PDF**:\n",
    "    - Il n'est pas très pertinent de convertir un fichier PDF en DataFrame, car un fichier PDF est un fichier binaire qui contient des informations de mise en page, des images, du texte, etc. Il est plus pertinent d'extraire le texte brut du fichier PDF et de le stocker dans un DataFrame lorsque cela est faisable, comme dans le cas de données tabulaires ou structurées dans le PDF.\n",
    "\n",
    "8. **Fichier TXT**:\n",
    "    - Un fichier TXT contient généralement du texte brut. Il est pertinent de convertir un fichier TXT en DataFrame si le texte brut est structuré sous forme de tableau ou de données tabulaires.\n",
    "\n",
    "9. **Fichier Markdown**:\n",
    "    - Un fichier Markdown est un fichier texte brut qui contient des balises de mise en forme. Il n'est pas très pertinent de convertir un fichier Markdown en DataFrame. Il est plus pertinent d'extraire le texte brut du fichier Markdown et de le stocker dans un DataFrame si cela est faisable, comme dans le cas de données tabulaires ou structurées dans le Markdown.\n"
   ],
   "id": "46a975f24fb1dac0"
  }
 ],
 "metadata": {
  "kernelspec": {
   "display_name": "Python 3 (ipykernel)",
   "language": "python",
   "name": "python3"
  },
  "language_info": {
   "codemirror_mode": {
    "name": "ipython",
    "version": 3
   },
   "file_extension": ".py",
   "mimetype": "text/x-python",
   "name": "python",
   "nbconvert_exporter": "python",
   "pygments_lexer": "ipython3",
   "version": "3.12.7"
  }
 },
 "nbformat": 4,
 "nbformat_minor": 5
}
