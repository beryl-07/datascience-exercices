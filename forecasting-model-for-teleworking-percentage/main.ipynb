{
 "cells": [
  {
   "cell_type": "code",
   "execution_count": null,
   "id": "5cc5ed358de185c9",
   "metadata": {
    "ExecuteTime": {
     "end_time": "2025-04-15T12:41:27.248981Z",
     "start_time": "2025-04-15T12:41:27.230952Z"
    }
   },
   "outputs": [],
   "source": [
    "import pandas as pd\n",
    "from datetime import datetime\n",
    "import matplotlib.pyplot as plt\n",
    "from sklearn.preprocessing import LabelEncoder, StandardScaler\n",
    "from sklearn.metrics import mean_squared_error, r2_score\n",
    "from sklearn.linear_model import LinearRegression\n",
    "from sklearn.preprocessing import PolynomialFeatures\n",
    "from sklearn.model_selection import train_test_split\n",
    "import seaborn as sns\n",
    "sns.set_theme(style=\"darkgrid\")"
   ]
  },
  {
   "cell_type": "markdown",
   "id": "9168807dcd7680df",
   "metadata": {},
   "source": [
    "### Load the dataset"
   ]
  },
  {
   "cell_type": "code",
   "execution_count": null,
   "id": "5f4b363422b61dbb",
   "metadata": {
    "ExecuteTime": {
     "end_time": "2025-04-15T12:41:27.564448Z",
     "start_time": "2025-04-15T12:41:27.297634Z"
    }
   },
   "outputs": [],
   "source": [
    "df = pd.read_excel('./data/employes_dataset.xlsx')\n",
    "df.info()"
   ]
  },
  {
   "cell_type": "markdown",
   "id": "41f68fedad542bcb",
   "metadata": {},
   "source": [
    "### Drop rows with missing values in the features columns"
   ]
  },
  {
   "cell_type": "code",
   "execution_count": null,
   "id": "f129fe51e49c6ee5",
   "metadata": {
    "ExecuteTime": {
     "end_time": "2025-04-15T12:41:27.671399Z",
     "start_time": "2025-04-15T12:41:27.647518Z"
    }
   },
   "outputs": [],
   "source": [
    "df = df.dropna(subset=[col for col in df.columns if col != 'Télétravail (%)'])\n",
    "df.info()"
   ]
  },
  {
   "cell_type": "markdown",
   "id": "9f3c929422ea6726",
   "metadata": {},
   "source": [
    "### Examine if `Télétravail (%)` is correlated with other variables\n"
   ]
  },
  {
   "cell_type": "markdown",
   "id": "30a32f80115951a6",
   "metadata": {},
   "source": [
    "Create column `Ancienneté (années)` based on `Date d'embauche` column.\n"
   ]
  },
  {
   "cell_type": "code",
   "execution_count": null,
   "id": "7f760d3bdefef2b6",
   "metadata": {
    "ExecuteTime": {
     "end_time": "2025-04-15T12:41:27.785947Z",
     "start_time": "2025-04-15T12:41:27.760301Z"
    }
   },
   "outputs": [],
   "source": [
    "today = datetime.today()\n",
    "\n",
    "df[\"Ancienneté (années)\"] = (today - df[\"Date d'embauche\"]).dt.days/365\n",
    "df[\"Ancienneté (années)\"] = df[\"Ancienneté (années)\"].round(2)\n",
    "df.info()"
   ]
  },
  {
   "cell_type": "markdown",
   "id": "e92c18dbe96d3ecb",
   "metadata": {},
   "source": [
    "Before I proceed to One-Hot-Encoding of `Pays`, `Département` and `Ville` columns."
   ]
  },
  {
   "cell_type": "code",
   "execution_count": null,
   "id": "66a6572dfba2c86b",
   "metadata": {
    "ExecuteTime": {
     "end_time": "2025-04-15T12:41:27.950358Z",
     "start_time": "2025-04-15T12:41:27.927993Z"
    }
   },
   "outputs": [],
   "source": [
    "# encoder = LabelEncoder()\n",
    "# df['Département'] = encoder.fit_transform(df['Département'])\n",
    "# df['Ville'] = encoder.fit_transform(df['Ville'])\n",
    "# df['Télétravail (%)'] = encoder.fit_transform(df['Télétravail (%)'])\n",
    "\n",
    "df = pd.get_dummies(df, columns=['Pays', 'Département', 'Ville'], drop_first=True)"
   ]
  },
  {
   "cell_type": "code",
   "execution_count": null,
   "id": "3c71636592dcce2",
   "metadata": {
    "ExecuteTime": {
     "end_time": "2025-04-15T12:41:31.919627Z",
     "start_time": "2025-04-15T12:41:27.968033Z"
    }
   },
   "outputs": [],
   "source": [
    "correlation_matrix = df[[col for col in df.columns if df[col].dtype != 'object']].corr()[\"Télétravail (%)\"].dropna().sort_values(ascending=False)\n",
    "print(correlation_matrix)"
   ]
  },
  {
   "cell_type": "markdown",
   "id": "4838cf54215a587c",
   "metadata": {},
   "source": [
    "### I don't see any strong correlation between `Télétravail (%)` and other columns but I will continue with `Pays`, `Département` and `Ville` columns as features."
   ]
  },
  {
   "cell_type": "code",
   "execution_count": null,
   "id": "7b7f31481fdd9a77",
   "metadata": {
    "ExecuteTime": {
     "end_time": "2025-04-15T12:41:31.992574Z",
     "start_time": "2025-04-15T12:41:31.983796Z"
    }
   },
   "outputs": [],
   "source": [
    "# Select columns who match the pattern Pays*, Département* and Ville*\n",
    "print(df.shape)\n",
    "\n",
    "df = df.loc[:,df.columns.str.match(r\"^(Pays|Département|Ville)_\\w+$\") | df.columns.isin([\"Télétravail (%)\", \"Ancienneté (années)\"])]\n",
    "\n",
    "print(df.shape)"
   ]
  },
  {
   "cell_type": "code",
   "execution_count": null,
   "id": "a539c96b0ce85dfc",
   "metadata": {
    "ExecuteTime": {
     "end_time": "2025-04-15T12:41:32.127349Z",
     "start_time": "2025-04-15T12:41:32.115129Z"
    }
   },
   "outputs": [],
   "source": [
    "df.isnull().sum()"
   ]
  },
  {
   "cell_type": "code",
   "execution_count": null,
   "id": "57e1ae6376dc1397",
   "metadata": {
    "ExecuteTime": {
     "end_time": "2025-04-15T12:41:32.190538Z",
     "start_time": "2025-04-15T12:41:32.180003Z"
    }
   },
   "outputs": [],
   "source": [
    "df_with_empty_line = df[df[\"Télétravail (%)\"].isna()]\n",
    "df_without_empty_line = df[df[\"Télétravail (%)\"].notna()]"
   ]
  },
  {
   "cell_type": "code",
   "execution_count": null,
   "id": "411715bfcbce012e",
   "metadata": {
    "ExecuteTime": {
     "end_time": "2025-04-15T12:41:32.300381Z",
     "start_time": "2025-04-15T12:41:32.284660Z"
    }
   },
   "outputs": [],
   "source": [
    "x_train, x_test , y_train, y_test = train_test_split(df_without_empty_line.drop(columns=[\"Télétravail (%)\"]), df_without_empty_line[\"Télétravail (%)\"],test_size=0.2, random_state=42)"
   ]
  },
  {
   "cell_type": "code",
   "execution_count": null,
   "id": "45f45b5ac8c1d72",
   "metadata": {
    "ExecuteTime": {
     "end_time": "2025-04-15T12:41:32.389849Z",
     "start_time": "2025-04-15T12:41:32.341854Z"
    }
   },
   "outputs": [],
   "source": [
    "# scaler = StandardScaler()\n",
    "\n",
    "# x_train = scaler.fit_transform(x_train)\n",
    "\n",
    "# x_test = scaler.transform(x_test)"
   ]
  },
  {
   "cell_type": "code",
   "execution_count": null,
   "id": "24899f185a7bdb83",
   "metadata": {
    "ExecuteTime": {
     "end_time": "2025-04-15T12:41:32.922241Z",
     "start_time": "2025-04-15T12:41:32.503444Z"
    }
   },
   "outputs": [],
   "source": [
    "model = PolynomialFeatures(degree=2)\n",
    "x_poly = model.fit_transform(x_train)\n",
    "\n",
    "model_lin = LinearRegression()\n",
    "model_lin.fit(x_poly, y_train)"
   ]
  },
  {
   "cell_type": "code",
   "execution_count": null,
   "id": "4a84b962766b1ace",
   "metadata": {
    "ExecuteTime": {
     "end_time": "2025-04-15T12:41:32.970649Z",
     "start_time": "2025-04-15T12:41:32.950084Z"
    }
   },
   "outputs": [],
   "source": [
    "y_pred = model_lin.predict(x_test)\n",
    "\n",
    "r2 = r2_score(y_test, y_pred)\n",
    "print(r2)\n",
    "\n",
    "mse = mean_squared_error(y_test, y_pred)\n",
    "print(mse)"
   ]
  },
  {
   "cell_type": "markdown",
   "id": "30f9c0f0f6d7bb50",
   "metadata": {},
   "source": [
    "# Let's predict the `Télétravail (%)` for the employees who have not filled it yet."
   ]
  },
  {
   "cell_type": "code",
   "execution_count": null,
   "id": "e4312cbcfc3a34a2",
   "metadata": {
    "ExecuteTime": {
     "end_time": "2025-04-15T12:41:33.164036Z",
     "start_time": "2025-04-15T12:41:33.131838Z"
    }
   },
   "outputs": [],
   "source": [
    "df_with_empty_line[\"Télétravail (%)\"] = model.predict(df_with_empty_line.drop(columns=[\"Télétravail (%)\"]))\n",
    "\n",
    "df_with_empty_line[[\"Télétravail (%)\"]]"
   ]
  }
 ],
 "metadata": {
  "kernelspec": {
   "display_name": "datascience_exercises",
   "language": "python",
   "name": "python3"
  },
  "language_info": {
   "codemirror_mode": {
    "name": "ipython",
    "version": 3
   },
   "file_extension": ".py",
   "mimetype": "text/x-python",
   "name": "python",
   "nbconvert_exporter": "python",
   "pygments_lexer": "ipython3",
   "version": "3.12.9"
  }
 },
 "nbformat": 5,
 "nbformat_minor": 9
}
