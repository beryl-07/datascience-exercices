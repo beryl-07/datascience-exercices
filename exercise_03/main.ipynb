{
 "cells": [
  {
   "cell_type": "markdown",
   "id": "8a77807f92f26ee",
   "metadata": {},
   "source": [
    "## Exercice 3 : _Accès aux Bases de Données avec Python_\n",
    "1. Importer les bibliothèques nécessaires : **_sqlite3_** et **_pandas_**."
   ]
  },
  {
   "cell_type": "code",
   "id": "fbc121e30a2defb3",
   "metadata": {
    "ExecuteTime": {
     "end_time": "2025-04-02T03:30:21.241515Z",
     "start_time": "2025-04-02T03:30:14.981348Z"
    }
   },
   "source": [
    "import sqlite3\n",
    "import zipfile\n",
    "import requests\n",
    "import gdown\n",
    "import os\n",
    "import pandas as pd"
   ],
   "outputs": [],
   "execution_count": 27
  },
  {
   "metadata": {
    "ExecuteTime": {
     "end_time": "2025-04-02T03:32:32.835143Z",
     "start_time": "2025-04-02T03:30:23.588281Z"
    }
   },
   "cell_type": "code",
   "source": [
    "\n",
    "file_id = '1KHQZ3gStHb0t7eGBIhtCQWwiLhAuqMfK'\n",
    "local_zip_path = './data/database.db.zip'\n",
    "\n",
    "url = f'https://drive.google.com/uc?id={file_id}'\n",
    "gdown.download(url, local_zip_path, quiet=False)\n",
    "\n",
    "if os.path.exists(local_zip_path):\n",
    "    try:\n",
    "        with zipfile.ZipFile(local_zip_path, 'r') as zip_ref:\n",
    "            zip_ref.extractall('./data/')\n",
    "        print(\"Extraction successful.\")\n",
    "    except zipfile.BadZipFile:\n",
    "        print(\"Error: The downloaded file is not a valid ZIP file.\")\n",
    "else:\n",
    "    print(f\"Error: Could not find {local_zip_path}\")"
   ],
   "id": "f1aa648bbaea7d0a",
   "outputs": [
    {
     "name": "stderr",
     "output_type": "stream",
     "text": [
      "Downloading...\n",
      "From (original): https://drive.google.com/uc?id=1KHQZ3gStHb0t7eGBIhtCQWwiLhAuqMfK\n",
      "From (redirected): https://drive.google.com/uc?id=1KHQZ3gStHb0t7eGBIhtCQWwiLhAuqMfK&confirm=t&uuid=82268ad9-5ba6-44d0-a7ff-3c8acfbd45ff\n",
      "To: /home/beryl/PycharmProjects/datascience_exercises/exercise_03/data/database.db.zip\n",
      "100%|██████████| 402M/402M [01:24<00:00, 4.75MB/s] \n"
     ]
    },
    {
     "name": "stdout",
     "output_type": "stream",
     "text": [
      "Extraction successful.\n"
     ]
    }
   ],
   "execution_count": 28
  },
  {
   "metadata": {},
   "cell_type": "markdown",
   "source": "2. Se connecter à une base de données nommée **_'database\\.db'_**.",
   "id": "e46724f51c21e90c"
  },
  {
   "metadata": {
    "ExecuteTime": {
     "end_time": "2025-04-02T03:33:14.124829Z",
     "start_time": "2025-04-02T03:33:14.066122Z"
    }
   },
   "cell_type": "code",
   "source": "conn = sqlite3.connect('./data/database.db')",
   "id": "d10621e2d172a108",
   "outputs": [],
   "execution_count": 29
  },
  {
   "cell_type": "markdown",
   "id": "2bd307d8773e3bdb",
   "metadata": {},
   "source": [
    "3. Exécuter une requête SQL pour récupérer des données de votre choix."
   ]
  },
  {
   "cell_type": "code",
   "id": "f5ecb9fde2044a5b",
   "metadata": {
    "ExecuteTime": {
     "end_time": "2025-04-02T03:33:18.683788Z",
     "start_time": "2025-04-02T03:33:18.519201Z"
    }
   },
   "source": [
    "with conn:\n",
    "    cursor = conn.cursor()\n",
    "    cursor.execute(\"SELECT track_name, artist_name, duration_ms, danceability, energy FROM extracted WHERE danceability > 0.9 AND energy > 0.8 LIMIT 10\")\n",
    "    rows = cursor.fetchall()\n",
    "    for row in rows:\n",
    "        print(row)"
   ],
   "outputs": [
    {
     "name": "stdout",
     "output_type": "stream",
     "text": [
      "('Lose Control (feat. Ciara & Fat Man Scoop)', 'Missy Elliott', 226863, 0.904, 0.813)\n",
      "('In the morning - Version', 'Natural Self', 236746, 0.918, 0.837)\n",
      "('The Next Episode', 'Dr. Dre', 161600, 0.92, 0.891)\n",
      "('Hollaback Girl', 'Gwen Stefani', 199906, 0.918, 0.918)\n",
      "(\"It's Tricky\", 'Run–D.M.C.', 183426, 0.965, 0.857)\n",
      "('Peanut Butter Jelly Time - Radio', 'Chip-man & The Buckwheat Boyz', 216400, 0.915, 0.877)\n",
      "('We No Speak Americano - Radio Edit', 'Yolanda Be Cool', 157440, 0.902, 0.805)\n",
      "('The Motto (Drake feat. Lil Wayne Tribute) [Karaoke', 'The MegaStars Of Hip Hop & R&B Karaoke', 181920, 0.964, 0.961)\n",
      "('Sippin On Some Syrup', 'Three 6 Mafia', 261133, 0.939, 0.859)\n",
      "('Jam On It', 'Newcleus', 421893, 0.912, 0.81)\n"
     ]
    }
   ],
   "execution_count": 30
  },
  {
   "cell_type": "markdown",
   "id": "c648a34481fb6e91",
   "metadata": {},
   "source": [
    "4. Charger les résultats dans un **_DataFrame pandas_**."
   ]
  },
  {
   "cell_type": "code",
   "id": "74ef6a63e31ed1cf",
   "metadata": {
    "ExecuteTime": {
     "end_time": "2025-04-02T03:34:07.143355Z",
     "start_time": "2025-04-02T03:34:07.033308Z"
    }
   },
   "source": [
    "df = pd.DataFrame(rows, columns=['track_name', 'artist_name', 'duration_ms', 'danceability', 'energy'])"
   ],
   "outputs": [],
   "execution_count": 31
  },
  {
   "cell_type": "markdown",
   "id": "791c956e2b3cc221",
   "metadata": {},
   "source": [
    "5. Afficher les cinq (05) premières lignes du **_DataFrame_**.\n"
   ]
  },
  {
   "cell_type": "code",
   "id": "244663dd0977bec",
   "metadata": {
    "ExecuteTime": {
     "end_time": "2025-04-02T03:34:09.521936Z",
     "start_time": "2025-04-02T03:34:09.394546Z"
    }
   },
   "source": [
    "df.head()"
   ],
   "outputs": [
    {
     "data": {
      "text/plain": [
       "                                   track_name    artist_name  duration_ms  \\\n",
       "0  Lose Control (feat. Ciara & Fat Man Scoop)  Missy Elliott       226863   \n",
       "1                    In the morning - Version   Natural Self       236746   \n",
       "2                            The Next Episode        Dr. Dre       161600   \n",
       "3                              Hollaback Girl   Gwen Stefani       199906   \n",
       "4                                 It's Tricky     Run–D.M.C.       183426   \n",
       "\n",
       "   danceability  energy  \n",
       "0         0.904   0.813  \n",
       "1         0.918   0.837  \n",
       "2         0.920   0.891  \n",
       "3         0.918   0.918  \n",
       "4         0.965   0.857  "
      ],
      "text/html": [
       "<div>\n",
       "<style scoped>\n",
       "    .dataframe tbody tr th:only-of-type {\n",
       "        vertical-align: middle;\n",
       "    }\n",
       "\n",
       "    .dataframe tbody tr th {\n",
       "        vertical-align: top;\n",
       "    }\n",
       "\n",
       "    .dataframe thead th {\n",
       "        text-align: right;\n",
       "    }\n",
       "</style>\n",
       "<table border=\"1\" class=\"dataframe\">\n",
       "  <thead>\n",
       "    <tr style=\"text-align: right;\">\n",
       "      <th></th>\n",
       "      <th>track_name</th>\n",
       "      <th>artist_name</th>\n",
       "      <th>duration_ms</th>\n",
       "      <th>danceability</th>\n",
       "      <th>energy</th>\n",
       "    </tr>\n",
       "  </thead>\n",
       "  <tbody>\n",
       "    <tr>\n",
       "      <th>0</th>\n",
       "      <td>Lose Control (feat. Ciara &amp; Fat Man Scoop)</td>\n",
       "      <td>Missy Elliott</td>\n",
       "      <td>226863</td>\n",
       "      <td>0.904</td>\n",
       "      <td>0.813</td>\n",
       "    </tr>\n",
       "    <tr>\n",
       "      <th>1</th>\n",
       "      <td>In the morning - Version</td>\n",
       "      <td>Natural Self</td>\n",
       "      <td>236746</td>\n",
       "      <td>0.918</td>\n",
       "      <td>0.837</td>\n",
       "    </tr>\n",
       "    <tr>\n",
       "      <th>2</th>\n",
       "      <td>The Next Episode</td>\n",
       "      <td>Dr. Dre</td>\n",
       "      <td>161600</td>\n",
       "      <td>0.920</td>\n",
       "      <td>0.891</td>\n",
       "    </tr>\n",
       "    <tr>\n",
       "      <th>3</th>\n",
       "      <td>Hollaback Girl</td>\n",
       "      <td>Gwen Stefani</td>\n",
       "      <td>199906</td>\n",
       "      <td>0.918</td>\n",
       "      <td>0.918</td>\n",
       "    </tr>\n",
       "    <tr>\n",
       "      <th>4</th>\n",
       "      <td>It's Tricky</td>\n",
       "      <td>Run–D.M.C.</td>\n",
       "      <td>183426</td>\n",
       "      <td>0.965</td>\n",
       "      <td>0.857</td>\n",
       "    </tr>\n",
       "  </tbody>\n",
       "</table>\n",
       "</div>"
      ]
     },
     "execution_count": 32,
     "metadata": {},
     "output_type": "execute_result"
    }
   ],
   "execution_count": 32
  },
  {
   "cell_type": "code",
   "id": "8fe5f70bdb7ba8ec",
   "metadata": {
    "ExecuteTime": {
     "end_time": "2025-04-02T03:34:16.396107Z",
     "start_time": "2025-04-02T03:34:16.077799Z"
    }
   },
   "source": [
    "conn.close()\n",
    "os.remove(local_zip_path)"
   ],
   "outputs": [],
   "execution_count": 33
  }
 ],
 "metadata": {
  "kernelspec": {
   "display_name": "Python 3",
   "language": "python",
   "name": "python3"
  },
  "language_info": {
   "codemirror_mode": {
    "name": "ipython",
    "version": 2
   },
   "file_extension": ".py",
   "mimetype": "text/x-python",
   "name": "python",
   "nbconvert_exporter": "python",
   "pygments_lexer": "ipython2",
   "version": "2.7.6"
  }
 },
 "nbformat": 4,
 "nbformat_minor": 5
}
